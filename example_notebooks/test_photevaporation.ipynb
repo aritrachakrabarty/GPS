{
 "cells": [
  {
   "cell_type": "code",
   "execution_count": 1,
   "id": "af9f2ad1-b5bd-47d1-9c3d-328e09111a86",
   "metadata": {},
   "outputs": [],
   "source": [
    "from init import *\n",
    "%matplotlib qt"
   ]
  },
  {
   "cell_type": "code",
   "execution_count": 2,
   "id": "d6a77ae6-f0db-430c-b09a-3df03d8ddd80",
   "metadata": {},
   "outputs": [],
   "source": [
    "N = 2000\n",
    "np.random.seed(1)\n",
    "m = np.random.lognormal(np.log(3.72), 0.44, N)\n",
    "np.random.seed(2)\n",
    "xo = np.random.lognormal(np.log(0.02), 0.71, N)\n",
    "np.random.seed(3)\n",
    "p = broken_power_per_sampler(5.75, 2.31, 0.08, N)\n",
    "a = per2sma(p)\n",
    "T = 279/a**0.5\n",
    "rc = m**(1/3.7)\n",
    "t = np.geomspace(100, 5000, 100)"
   ]
  },
  {
   "cell_type": "code",
   "execution_count": 3,
   "id": "dedc7dcb-87a6-49ad-9306-917e69c764cb",
   "metadata": {},
   "outputs": [
    {
     "name": "stdout",
     "output_type": "stream",
     "text": [
      "             m        xo          p        rc\n",
      "0     7.602184  0.014877  30.103347  1.730181\n",
      "1     2.842122  0.019217  46.596863  1.326191\n",
      "2     2.948593  0.004389  13.575984  1.339439\n",
      "3     2.320117  0.064092  26.837020  1.255412\n",
      "4     5.443940  0.005598  76.025417  1.580868\n",
      "...        ...       ...        ...       ...\n",
      "1995  4.041840  0.023448  14.412907  1.458614\n",
      "1996  4.761333  0.020151   2.984453  1.524649\n",
      "1997  2.479839  0.037054  10.102993  1.278206\n",
      "1998  4.945948  0.018342  20.964920  1.540405\n",
      "1999  6.847797  0.034215  59.554934  1.681994\n",
      "\n",
      "[2000 rows x 4 columns]\n"
     ]
    }
   ],
   "source": [
    "print(pd.DataFrame({'m': m, 'xo': xo, 'p': p, 'rc': rc}))"
   ]
  },
  {
   "cell_type": "markdown",
   "id": "9a46584e-277a-4173-907d-195ca98a3d1e",
   "metadata": {},
   "source": [
    "# Run photoevaporation with LF14 (Lopez & Fortney 2014)"
   ]
  },
  {
   "cell_type": "code",
   "execution_count": 9,
   "id": "da3647eb-dfa6-4dd0-aa6f-e96e9f737986",
   "metadata": {},
   "outputs": [
    {
     "data": {
      "text/plain": [
       "<matplotlib.legend.Legend at 0x16babe5d0>"
      ]
     },
     "execution_count": 9,
     "metadata": {},
     "output_type": "execute_result"
    }
   ],
   "source": [
    "rpo = rad_lopezfortney_analytic(m, rc, xo, T, age=t[0]) # Get the radius before photoevaporation for plotting\n",
    "rp, x = atm_structure_photevap(m, xo, T, a, rc=rc, eta=0.1, t=t, rp_calc_meth='LF14')  # Really fast!\n",
    "bins = fulton_redges(0.9, 6)\n",
    "plt.figure(figsize=(10, 7))\n",
    "plt.hist(rpo, bins, histtype='step', label='Before photoevaporation')\n",
    "plt.hist(rp, bins, histtype='step', label='After photoevaporation')\n",
    "plt.ylabel('Count', size=20)\n",
    "plt.xlabel(f'Radius ({runit})', size=20)\n",
    "plt.legend(fontsize=16)"
   ]
  },
  {
   "cell_type": "markdown",
   "id": "f388723e-a640-475b-a1f6-cf02aa389cd0",
   "metadata": {},
   "source": [
    "# Run photoevaporation with evapmass (Owen & Estrada 2020, Owen & Wu 2017)"
   ]
  },
  {
   "cell_type": "code",
   "execution_count": 5,
   "id": "d69783b8-0d42-48d6-baa5-ac0cd1af0a1e",
   "metadata": {},
   "outputs": [],
   "source": [
    "# Import evapmass\n",
    "import sys\n",
    "# Add path of the evapmass package\n",
    "evapmass_path = '../../EvapMass-master'\n",
    "sys.path.append(evapmass_path)\n",
    "from planet_structure import solve_structure"
   ]
  },
  {
   "cell_type": "markdown",
   "id": "d8ef506c-c285-4a23-b462-acc5efef3d44",
   "metadata": {},
   "source": [
    "- \"total_rad_generic()\" allows custom function\n",
    "- Arguments needed by the custom function has to be defined:\n",
    "    * 1. The variable arguments should be one of: 'mp' (for mass), 'X' (for atmospheric mass-fraction), 'Teq' (for equilibrium temperature), 'rc' (for core radius in RE), 'wf' (for WMF), and 'age' (for age!)\n",
    "    * 2. Any fixed argument can be defined arbitrarily and that has to be parsed to atm_structure_photevap() as a keyworded argument, e.g. atm_structure_photevap(..., Xiron=0)\n"
   ]
  },
  {
   "cell_type": "code",
   "execution_count": 6,
   "id": "b21598bc-1cc0-4605-a74a-a0a4ae2dde34",
   "metadata": {},
   "outputs": [],
   "source": [
    "# Define custom function: \n",
    "def calc_radii_using_evapmass(mp, X, Teq, age=None, wf=0, Tkh_Myr=100, Xiron=0.3):\n",
    "    mp = np.atleast_1d(mp)\n",
    "    mp, X, Teq, Xiron, age, wf = np.broadcast_arrays(mp, X, Teq, Xiron, age, wf)\n",
    "    # Tkh_Myr = Tkh_Myr if age < 100 else age\n",
    "    rp = np.zeros_like(mp)\n",
    "    for i in range(len(mp)):\n",
    "        rp[i] = solve_structure(X[i], Teq[i], mp[i], Tkh_Myr, Xiron[i], wf[i])[2][0] / RE  # The second output is total radius and it is in cgs unit\n",
    "    return rp\n",
    "\n",
    "# Define arguments needed\n",
    "args_for_evapmass = 'mp', 'X', 'Teq', 'age', 'wf', 'Tkh_Myr', 'Xiron'"
   ]
  },
  {
   "cell_type": "code",
   "execution_count": 7,
   "id": "086e87d4-5a32-437e-95e3-d830a5e8afd4",
   "metadata": {},
   "outputs": [
    {
     "name": "stdout",
     "output_type": "stream",
     "text": [
      "time-step: 99/99\n"
     ]
    }
   ],
   "source": [
    "# A bit slow :(\n",
    "rp1, x1 = atm_structure_photevap(m, xo, T, a, rc=rc, t=t, rp_calc_meth=calc_radii_using_evapmass, args=args_for_evapmass, progress=True, wf=0, Tkh_Myr=100, Xiron=0.3)"
   ]
  },
  {
   "cell_type": "code",
   "execution_count": 21,
   "id": "78a7da62-406a-4f65-b7b3-195cdd95632d",
   "metadata": {},
   "outputs": [],
   "source": [
    "fig, ax = plt.subplots(1, 2, figsize=(15, 7))\n",
    "ax[0].hist(rp, bins, histtype='step', label='After photoevaporation (LF+14)')\n",
    "ax[0].hist(rp1, bins, histtype='step', label='After photoevaporation (Evapmass)')\n",
    "ax[0].set_ylabel('Count', size=20)\n",
    "ax[0].set_xlabel(f'Radius ({runit})', size=20)\n",
    "\n",
    "Xbins = np.geomspace(np.min([xo, x, x1]), np.max([xo, x, x1]), 50)\n",
    "ax[1].hist(x, Xbins, histtype='step', label='After photoevaporation (LF+14)')\n",
    "ax[1].hist(x1, Xbins, histtype='step', label='After photoevaporation (Evapmass)')\n",
    "ax[1].hist(xo, Xbins, histtype='step', label='Before photoevaporation')\n",
    "ax[1].set_xlabel(f'Atmospheric mass-fraction', size=20)\n",
    "ax[1].set_xscale('log')\n",
    "ax[1].legend(fontsize=16)\n",
    "fig.tight_layout()"
   ]
  },
  {
   "cell_type": "code",
   "execution_count": 12,
   "id": "17fe732d-4ba4-4f5c-9769-447aa430ee4f",
   "metadata": {},
   "outputs": [
    {
     "data": {
      "text/plain": [
       "(1e-05, 0.3697784477605486)"
      ]
     },
     "execution_count": 12,
     "metadata": {},
     "output_type": "execute_result"
    }
   ],
   "source": [
    "np.min([xo, x, x1]), np.max([xo, x, x1])"
   ]
  },
  {
   "cell_type": "code",
   "execution_count": null,
   "id": "5cb26668-d3b7-45b5-b818-4b1df86bb761",
   "metadata": {},
   "outputs": [],
   "source": []
  }
 ],
 "metadata": {
  "kernelspec": {
   "display_name": "Python 3 (ipykernel)",
   "language": "python",
   "name": "python3"
  },
  "language_info": {
   "codemirror_mode": {
    "name": "ipython",
    "version": 3
   },
   "file_extension": ".py",
   "mimetype": "text/x-python",
   "name": "python",
   "nbconvert_exporter": "python",
   "pygments_lexer": "ipython3",
   "version": "3.11.9"
  }
 },
 "nbformat": 4,
 "nbformat_minor": 5
}
